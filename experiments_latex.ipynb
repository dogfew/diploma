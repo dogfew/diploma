{
 "cells": [
  {
   "cell_type": "markdown",
   "id": "896c8df5-4e6d-4507-a8b2-a4d221fbc2f9",
   "metadata": {},
   "source": [
    "# Описание модели\n",
    "\n",
    "Агентная модель многоотраслевой экономики. Единственные агенты в этой модели - __фирмы__. То, с помощью чего они между собой взаимодействуют, называется __рынком__.\n",
    "\n",
    "## Рынок\n",
    "\n",
    "Характеризуется двумя матрицами - матрицами объёмов ($V$) и цен ($P$). Также на рынках хранится выручка фирм, каждая фирма получает эту выручку к началу своего хода. \n",
    "Для экономики с $n$ агентами и $k$ отраслями, эти матрицы будут выглядеть так:\n",
    "\n",
    "$$V = \\begin{pmatrix} \n",
    "V_{1, 1} \\cdots V_{1, j} \\cdots V_{1, k} \\\\\n",
    "\\vdots  \\quad  \\ddots \\quad \\quad  \\vdots \\\\\n",
    "V_{i, 1} \\cdots  V_{i, j} \\cdots V_{i, k} \\\\\n",
    "\\vdots \\quad  \\quad  \\ddots \\quad \\vdots \\\\\n",
    "V_{n, 1} \\cdots V_{n, j} \\cdots V_{n, k} \\\\\n",
    "\\end{pmatrix}, \\quad P = \\begin{pmatrix} \n",
    "P_{1, 1} \\cdots P_{1, j} \\cdots P_{1, k} \\\\\n",
    "\\vdots  \\quad  \\ddots \\quad \\quad  \\vdots \\\\\n",
    "P_{i, 1} \\cdots  P_{i, j} \\cdots P_{i, k} \\\\\n",
    "\\vdots \\quad  \\quad  \\ddots \\quad \\vdots \\\\\n",
    "P_{n, 1} \\cdots P_{n, j} \\cdots P_{n, k} \\\\\n",
    "\\end{pmatrix}$$\n",
    "\n",
    "$V_{i, j}$ - объёмы на рынке у фирмы $i$ на товар $j$. $P_{i, j}$ - цены на рынке у фирмы $i$ на товар $j$\n",
    "\n",
    "\n",
    "## Фирма (Агент)\n",
    "\n",
    "### Характеристика \n",
    "\n",
    "#### Любой фирмы\n",
    "\n",
    "Фирма характеризуется:\n",
    "\n",
    "- Производственной функцией: $f_{prod}(\\vec{x}_{in}) = \\vec{x}_{out}$. $\\vec{x}_{in}=(x_1, \\ldots, x_j, \\ldots x_k)$ - вектор входа. $\\vec{x}_{out}$ - вектор выхода\n",
    "\n",
    "- Вектором наличных объёмов товаров, или резервов (запасов): $\\vec{res} = (res_1, , \\ldots res_j, \\ldots res_k)$. Часть этих запасов (или, при желании, все) можно израсходовать на производство. \n",
    "\n",
    "- Финансовыми ресурсами $m$. Это деньги, они нужны, чтобы покупать товары на рынке. Получить деньги можно, если выставить свои товары на рынок и их кто-то купит.\n",
    "\n",
    "- Политикой, принимающей на вход состояние и возвращающей действия. $\\pi_i(P, V, \\vec{res}_i, m_i, \\mathcal{K}) \\rightarrow (A_i^{buy}, \\vec{a}_i^{use}, \\vec{a}_i^{sale}, \\vec{a}_i^{prices})$. Подробнее о действиях будет ниже.\n",
    "\n",
    "#### Фирмы с основным капиталом\n",
    "\n",
    "- Основным капиталом (лимитом): $\\mathcal{K}$, задающий максимальные производственные объёмы. Основной капитал $K_{t}$, приобретенный в некотором периоде, существует на протяжении некоторого количества ходов $d$. Таким образом, объём основного капитала фирмы $i$ на момент времени {t}: $\\mathcal{K}_{i} = \\sum_{\\tau=t-d}^t \\mathcal{K}_{i, \\tau}$.\n",
    "\n",
    "\n",
    "- Производственной функцией: $f_{prod}(\\vec{x}_{in}, \\mathcal{K}) = \\min\\{f_{prod}(\\vec{x}_{in}), \\mathcal{K}\\} = \\vec{x}_{out}$\n",
    "\n",
    "- Инвестиционной функцией: $f_{invest}(\\vec{x}_{in}) = \\mathcal{K}_{new}$\n",
    "\n",
    "\n",
    "## Гиперпараметры среды\n",
    "\n",
    "Как мы знаем, ex nihilo nihil fit. Нужно, чтобы, во-первых, у фирм было, из чего производить, и, во-вторых, у фирм было, на что покупать. Если бы в среде были нулевые изначальные финансовые ресурсы, там был бы невозможен обмен, а в случае нулевых начальных резервов невозможно производство. \n",
    "\n",
    "\n",
    "- Начальные резервы фирм: $\\vec{res}_0$\n",
    "\n",
    "- Начальные цены $P_0$. Эти цены существуют до первого хода каждой из фирм, после - цены назначаются фирмами\n",
    "\n",
    "- Начальные финансовые ресурсы фирм $m_0$. \n",
    "\n",
    "- Начальные объёмы основного капитала $\\mathcal{K}_0$\n",
    "\n",
    "- Время существования основного капитала $d$\n",
    "\n",
    "- Максимальные и минимальные возможные цены. С минимально возможными ценами всё понятно. Максимально-возможные цены в простейшем случае \n",
    "\n",
    "## Шаг среды\n",
    "\n",
    "За один шаг среды в некотором порядке ходят все фирмы. Порядок может быть любым. \n",
    "\n",
    "### Ход фирмы i\n",
    "\n",
    "- Фирма $\\eta$ получает наблюдение $o_\\eta=(P, V, \\vec{res}_\\eta, m_\\eta, \\mathcal{K}, \\mathcal{K}_{-d})$. То есть, наблюдения фирмы состоят из матрицы цен ($P$), матрицы объёмов ($V$), текущих запасов фирмы $\\eta$, денег $m_\\eta$, объёмов основного капитала $\\mathcal{K}_\\eta$\n",
    "\n",
    "- Фирма применяет свою текущую политику к наблюдению: $\\pi_\\eta(o_\\eta) = (A_i^{buy}, \\vec{a}_i^{use}, \\vec{a}_i^{sale}, \\vec{a}_i^{prices})$, получая действия.\n",
    "\n",
    "    - $A^{buy} \\in \\mathbb{R}^{n \\times k}$. Отвечает за распределение денежных ресурсов на покупки на рынка. $0 < \\sum_j^{k} \\sum_l^n A_{l, j}^{buy} < 1$. Изначально этот вектор генерируется многомерным распределением Дирихле, размерность $n\\cdot k + 1$, сумма элементов равна единице. Последний элемент отвечает за долю сберегаемых финансовых ресурсов\n",
    "    \n",
    "    - $\\vec{a}^{use} \\in \\mathbb{R}^{k}$. В случае, если есть основной капитал, то есть два веткора $a^{use}_{prod}$ и $a^{use}_{invest}$. Отвечает за то, какую долю каждого из резервов потратить. Также моделируется распределением Дирихле, поскольку для инвестиций и для производства используются одни и те же резервы. Часть резервов может сберегаться. $0 < \\sum^k_j \\vec{a}_j^{use} < 1$\n",
    "    \n",
    "    - $\\vec{a}^{sale} \\in \\mathbb{R}^{k}$. Отвечает за долю каждого из резервов на продажу (имеющихся на момент после покупок, инвестиций и производства). Моделируется с помощью Бета-распредения. $0 < \\vec{a}_j^{sale} < 1$.\n",
    "    \n",
    "    - $\\vec{a}^{prices} \\in \\mathbb{R}^{k}$. Это цены, которые назначает фирма. Моделируются с помощью бета-распределения. Изначальные величины принимают значения $[0, 1]$, затем масштабируются в $[p_{min}, p_{max}]$\n",
    "    \n",
    "- __Покупки__\n",
    "    \n",
    "    - Выясняется объём товаров\n",
    "        $$V^{bought}_{i, j} \\gets \\min \\{m_\\eta \\cdot \\frac{A^{buy}_{i, j}}{P_{i, j}}, \\, V_{i, j} \\}$$\n",
    "    \n",
    "    - Финансы фирмы уменьшаются: \n",
    "    \n",
    "        $$m_\\eta \\gets m_\\eta - \\text{tr}(P^T V^{bougth})$$\n",
    "        \n",
    "    - Остальные фирмы получают вознаграждения \n",
    "        $$m_{i} \\gets m_{i} + \\langle V^{bougth}_i, P_i \\rangle$$\n",
    "        \n",
    "    - Пополняются резервы фирмы\n",
    "    \n",
    "        $$\\vec{res}_j^\\eta \\gets \\vec{res}_j^\\eta + \\sum_{i}^k V^{bought}_{i, j}$$\n",
    "- __Инвестиции__ (Опционально)\n",
    "    \n",
    "    - Определяются резервы, идущие на инвестиции _(считается одновременно с производством)_: $$\\vec{x}_{invest} \\gets \\vec{res} \\odot a^{use}_{invest}$$\n",
    "    \n",
    "    - Производятся новые лимиты \n",
    "        $$\\mathcal{K}_{t}^\\eta \\gets f^\\eta_{invest}(\\vec{x}_{invest})$$\n",
    "    \n",
    "    - Новые лимиты добавляются. \n",
    "        $$\\mathcal{K}^\\eta \\gets \\mathcal{K}^\\eta + \\mathcal{K}_t^\\eta$$\n",
    "    \n",
    "    - Из резервов вычетаются те, которые пошли на инвестиции в основной капитал:\n",
    "        $$\\vec{res}^\\eta \\gets \\vec{res}^\\eta - \\vec{x}_{invest}$$\n",
    "- __Производство__\n",
    "    \n",
    "    - Определяются резервы, идущие на производство _(считается одновременно с инвестициями)_: $$\\vec{x}_{in} \\gets \\vec{res} \\odot a^{use}_{prod}$$\n",
    "    \n",
    "    - Производятся новые ресурсы (после инвестиций)\n",
    "        $$\\vec{x}_{out} \\gets f^\\eta_{prod}(\\vec{x}_{in})$$\n",
    "\n",
    "    - Обновляются резервы \n",
    "        $$\\vec{res}^\\eta \\gets \\vec{res}^\\eta +  \\vec{x}_{out} - \\vec{x}_{in} $$\n",
    "    \n",
    "- __Выставление товаров на рынок__\n",
    "\n",
    "    - Определяются резервы, идущие на рынок (после производства и инвестиций):\n",
    "    \n",
    "    $$\\vec{x}_{sale} \\gets \\vec{res} \\odot a^{sale}$$\n",
    "    \n",
    "    - В матрице товаров осуществляется приращение:\n",
    "    $$V_\\eta \\gets V_\\eta + \\vec{x}_{sale}$$\n",
    "        \n",
    "    - Резервы фирмы уменьшаются на величину, выставленную на рынок\n",
    "    \n",
    "    $$\\vec{res}^\\eta \\gets \\vec{res}^\\eta - \\vec{x}_{sale}$$\n",
    "    \n",
    "    \n",
    "- __Назначение цен__:    \n",
    "    - Цены на рынке у фирмы $\\eta$ меняются\n",
    "    \n",
    "    $$P_\\eta \\gets a^{prices} \\cdot (p_{max} - p_{min}) + p_{min}$$\n",
    "    \n",
    "    - Опционально можно сделать так, чтобы цены менялись только в процентах, и были более стабильными. Интервал изменений за период: [-50%, +100%]. Функция подобрана так, чтобы для $x \\in [0, 1]$:\n",
    "    $$\\begin{cases}\n",
    "        f(x) \\cdot f(1-x) \\approx 1\\\\\n",
    "        f(0.0) = 0.5 \\\\\n",
    "        f(0.5) = 1.0 \\\\\n",
    "        f(1.0) = 2.0 \\\\\n",
    "        \\end{cases}$$\n",
    "    \n",
    "- __Изнашивание__ (Опционально)\n",
    "    \n",
    "    - Капитал с истекшим сроком давности пропадает:\n",
    "    \n",
    "    $$\\mathcal{K}^\\eta \\gets \\mathcal{K}^\\eta - \\mathcal{K}^\\eta_{t-d}$$\n"
   ]
  },
  {
   "cell_type": "markdown",
   "id": "4128d8e8-c854-4889-a771-44f87eb52346",
   "metadata": {},
   "source": [
    "## Нюансы\n",
    "\n",
    "- Все объёмы, цены, финансы, резервы, лимиты - целые числа. Доли - в действительных, при домножении они безопасно округляются. Мотивация - избежание ошибки с плавающей запятой.\n",
    "\n",
    "- Используется MAPPO. Среда векторизована. Это означает, что когда ходит одна фирма, одновременно может ходить ещё батч фирм в параллельных симуляциях (например, в 512). На инференсе батч сокращается до размера 1. \n",
    "\n",
    "- Пока что я работаю только с Леонтьевскими производственными функциями\n",
    "\n",
    "- Фирма может покупать товары у себя.\n",
    "\n",
    "- Ценовая дискриминация в данной модели не допускается.\n",
    "\n",
    "- seed реально влияет на траекторию обучения. При неудачном может выйти не очень."
   ]
  },
  {
   "cell_type": "markdown",
   "id": "bb1a1375-262c-4189-8232-b8a43910ad2f",
   "metadata": {},
   "source": [
    "# Описание экспериментов\n",
    "\n",
    "Для того, чтобы проверить адекватность фреймворка, было принято решение для начала посмотреть, как будет идти обучение агентов, если игра будет не с нулевой суммой. \n",
    "Оказывается, что если сделать всё аккуратно, подобрать наилучший алгоритм для данной задачи (Multi-Agent Proximal Policy Optimization) и соблюсти кучу нюансов (https://iclr-blog-track.github.io/2022/03/25/ppo-implementation-details/), то агенты добросовестно будут максимизировать награду. Другие алгоритмы обучения с подкреплением (off-policy) (Multi-Agent Soft Actor Critic) показали худшие результаты, чем MAPPO (on-policy), с которым вышло и быстрее, и стабильнее, и награды выше.  \n",
    "\n",
    "\n",
    "## 0. Подготовка\n",
    "\n",
    "- Определяются гиперпараметры рынка\n",
    "\n",
    "- Определяются гиперпараметры моделей\n",
    "\n",
    "## 1. Обучение\n",
    "\n",
    "Модель обучается, каждая по 1000 эпох. При этом учитывается опыт ограниченного числа шагов в средах (по 32, в данном примере). \n",
    "\n",
    "Есть три вида наград для фирм:\n",
    "\n",
    "\n",
    "- Производственная. При обучении на такую награду достигается кооперативное поведение фирм, производство растёт. \n",
    "\n",
    "$$r_t = \\sum_j \\vec{x}_j^{out}$$\n",
    "\n",
    "\n",
    "- Финансовая. При обучении на такую награду модель приходит к равновесию, где никто не покупает товары у контрагентов.\n",
    "$$r_t = \\text{revenue}_{t+1} - \\text{costs}_t$$\n",
    "\n",
    "\n",
    "- Смешанная. Эта награда приводит к более неожиданному поведению. Интуитивная интерпретация: фирмам важны и финансовые показатели, и номинальные объёмы производства. \n",
    "$$r_t = \\text{revenue}_{t+1} - \\text{costs}_t + \\alpha \\cdot \\sum_j \\vec{x}_j^{out}$$\n",
    "\n",
    "При обучении ниже порядок ходов по умолчанию фиксирован, хотя его можно сделать перемешивающимся, чтобы фирмы предполагали, что после них может ходить кто угодно.\n",
    "\n",
    "## 2. Симуляция\n",
    "\n",
    "Для оценки обученных политик запускается симуляция. Там данные по динамике среды на каждый временной шаг. \n",
    "Политика фирм визуализируется с помощью heatmap, что очень удобно, поскольку переменные, отвечающие за действия, находятся в интервале [0, 1]. По оси $x$ временные шаги с точки зрения _фирм_.\n",
    "\n",
    "Здесь отображаются 90% доверительные интервалы для переменных, скользящие средние (window=5), по действиям берутся средние значения."
   ]
  },
  {
   "cell_type": "code",
   "execution_count": 55,
   "id": "c04fba04-ccb2-4c5a-a9ea-b1a534a89159",
   "metadata": {
    "ExecuteTime": {
     "end_time": "2024-04-28T10:44:46.706859214Z",
     "start_time": "2024-04-28T10:44:46.705241036Z"
    },
    "tags": []
   },
   "outputs": [
    {
     "name": "stdout",
     "output_type": "stream",
     "text": [
      "The autoreload extension is already loaded. To reload it, use:\n",
      "  %reload_ext autoreload\n"
     ]
    }
   ],
   "source": [
    "%load_ext autoreload\n",
    "%autoreload 2"
   ]
  },
  {
   "cell_type": "code",
   "execution_count": 56,
   "id": "1110a5dd-7d27-4872-9e15-7e194b61ca55",
   "metadata": {
    "ExecuteTime": {
     "end_time": "2024-04-28T10:44:47.723146818Z",
     "start_time": "2024-04-28T10:44:46.706200707Z"
    },
    "tags": []
   },
   "outputs": [],
   "source": [
    "import torch\n",
    "from environment_batched import BatchedLeontief, BatchedEnvironment\n",
    "from models.policy import BetaPolicyNetwork\n",
    "from models.utils import get_state, get_state_dim, process_actions, get_action_dim\n",
    "from trainer import TrainerAC, TrainerSAC, TrainerPPO\n",
    "from utils.plotting_tikz import plot_environment_batch, plot_volumes_batch, plot_actions_batch, plot_loss_batch"
   ]
  },
  {
   "cell_type": "code",
   "execution_count": 57,
   "id": "13f3b9a8-1964-4dfa-be13-ee7c138ef876",
   "metadata": {
    "ExecuteTime": {
     "end_time": "2024-04-28T10:46:44.827052336Z",
     "start_time": "2024-04-28T10:46:44.680786153Z"
    },
    "tags": []
   },
   "outputs": [],
   "source": [
    "torch.manual_seed(123)\n",
    "torch.backends.cudnn.deterministic = True\n",
    "device = 'cuda'\n",
    "# Гиперпараметры рынка\n",
    "market_kwargs = dict(\n",
    "    start_volumes=10,      # У всех фирм в резервах изначально 4 товара А и 10 товара Б\n",
    "    base_price=50,         # Изначальные цены на рынке - 50 \n",
    "    start_gains=500,       # Изначальные финансовые ресурсы у каждой фирмы - 500\n",
    "    deprecation_steps=2,   # За сколько ходов износится основной капитал\n",
    "    min_price=1,           # Минимальная возможная цена на рынке\n",
    "    max_price=100          # Максимальная возможная цена на рынке\n",
    ")\n",
    "num = 0"
   ]
  },
  {
   "cell_type": "code",
   "execution_count": 58,
   "id": "a729458c-ea5d-42b9-a315-6a62c7daae52",
   "metadata": {},
   "outputs": [],
   "source": [
    "def plot(trainer, env):\n",
    "    global num \n",
    "    plot_loss_batch(trainer.df_list, num=num)\n",
    "    plot_environment_batch(env.state_history, num=num)\n",
    "    plot_volumes_batch(env.state_history, num=num)\n",
    "    for i, history in enumerate(env.actions_history):\n",
    "        plot_actions_batch(env.actions_history[i], f'policy{i+1}', num=num)\n",
    "    num = num + 1"
   ]
  },
  {
   "cell_type": "code",
   "execution_count": 59,
   "id": "aa2a86c7-33f6-488c-8085-f96e42e11ce0",
   "metadata": {
    "ExecuteTime": {
     "end_time": "2024-04-28T10:47:57.092390092Z",
     "start_time": "2024-04-28T10:47:56.952888892Z"
    },
    "tags": []
   },
   "outputs": [],
   "source": [
    "# Производственные функции\n",
    "prod_functions = [\n",
    "    BatchedLeontief(torch.tensor([0, 1]), torch.tensor([2, 0]), device=device),  # 0 товара А + 1 товар  Б => 2 товара А.\n",
    "    BatchedLeontief(torch.tensor([1, 0]), torch.tensor([0, 2]), device=device),  # 1 товара А + 0 товара Б => 2 товара Б \n",
    "]\n",
    "\n",
    "# Инвестиционные функции\n",
    "invest_functions = [\n",
    "    BatchedLeontief(torch.tensor([1, 1]), torch.tensor(2), device=device),\n",
    "    BatchedLeontief(torch.tensor([1, 1]), torch.tensor(2), device=device),\n",
    "]\n",
    "\n",
    "env_kwargs = dict(\n",
    "     device=device,\n",
    "     batch_size=512\n",
    ")\n",
    "trainer_kwargs = dict(\n",
    "     learning_rates=(3e-3, 3e-4),\n",
    "     batch_size=512,\n",
    "     entropy_reg=0.01,\n",
    "     buffer_size=8192 * 64,\n",
    "     device=device,\n",
    "     entropy_gamma=0.999,\n",
    "     lr_gamma=0.991,\n",
    "     common_optimizer=True\n",
    ")\n",
    "train_kwargs = dict(\n",
    "    n_epochs=1000, episode_length=32, debug_period=10000, shuffle_order=False\n",
    ")"
   ]
  },
  {
   "cell_type": "code",
   "execution_count": 60,
   "id": "ab5aeb15-d240-4319-a14d-e972ba752cac",
   "metadata": {
    "ExecuteTime": {
     "end_time": "2024-04-28T10:47:57.999413538Z",
     "start_time": "2024-04-28T10:47:57.971234798Z"
    },
    "tags": []
   },
   "outputs": [],
   "source": [
    "env = BatchedEnvironment(market_kwargs,\n",
    "                         BetaPolicyNetwork,\n",
    "                         prod_functions,\n",
    "                         invest_functions=None,\n",
    "                         target='production',\n",
    "                         production_reg=0,\n",
    "                         **env_kwargs\n",
    "                        )\n",
    "trainer = TrainerPPO(env, **trainer_kwargs)"
   ]
  },
  {
   "cell_type": "markdown",
   "id": "6f0695b6-4b7d-4c65-8dd8-f2e5988869f4",
   "metadata": {},
   "source": [
    "# Первый эксперимент.\n",
    "\n",
    "\n",
    "__Цель__: каждая фирма стремится максимизировать собственные номинальные дисконтированные объёмы выпуска. \n",
    "\n",
    "__Лимиты__: нет\n",
    "\n",
    "\n",
    "## Подробности:\n",
    "\n",
    "- $$r_t = \\log\\Big(0.5 + \\sum_{j} (\\vec{x}_{out} - \\vec{x}_{in})_j\\Big)$$\n",
    "\n",
    "- $$f^{prod}_1(\\vec{x}) = (0, 2 \\vec{x}_1)$$\n",
    "\n",
    "- $$f^{prod}_2(\\vec{x}) = ( 2 \\vec{x}_1, 0)$$\n",
    "\n",
    "\n",
    "## Результаты:\n",
    "\n",
    "- Фирмы стараются держать низкие цены на свои товары. Цены на товары контрагента выглядят случайными. \n",
    "\n",
    "- Фирмы стараются покупать только то, что нужно на производство\n",
    "\n",
    "- Сделки на большую часть портфеля совершаются контрагентом\n",
    "\n",
    "- Большую часть резервов фирмы расходуют на производство\n",
    "\n",
    "- Фирмы продают большую часть товаров, которые они производят\n",
    "\n",
    "- Производство в общем растёт"
   ]
  },
  {
   "cell_type": "code",
   "execution_count": null,
   "id": "c82072c7-b996-4bac-bd54-f933be5b83ff",
   "metadata": {},
   "outputs": [
    {
     "name": "stderr",
     "output_type": "stream",
     "text": [
      " 65%|██████████████████████████████████████████████████████████████████████████████████                                             | 646/1000 [03:10<01:45,  3.35it/s, LR=8.72e-7, Order=[0, 1]]"
     ]
    }
   ],
   "source": [
    "trainer.train(**train_kwargs)\n",
    "env.reset()\n",
    "n_periods = 64\n",
    "for i in range(n_periods):\n",
    "    env.step_and_record_batch(i % env.market.n_firms)\n",
    "plot(trainer, env)"
   ]
  },
  {
   "cell_type": "markdown",
   "id": "dbb393da-aa3b-43f9-bb87-6a0e7e9aeb1c",
   "metadata": {
    "tags": []
   },
   "source": [
    "# Второй эксперимент\n",
    "\n",
    "__Цель__: каждая фирма стремится максимизировать собственные номинальные дисконтированные объёмы выпуска. \n",
    "\n",
    "__Лимиты__: есть\n",
    "\n",
    "## Подробности:\n",
    "- $$r_t = \\log\\Big(0.5 + \\sum_{j} (\\vec{x}_{out} - \\vec{x}_{in})_j\\Big)$$\n",
    "\n",
    "- $$f^{prod}_1(\\vec{x}, \\mathcal{K}_1) = (0, 2 \\cdot \\min \\{\\vec{x}_2, \\mathcal{K}_1 \\})$$\n",
    "\n",
    "- $$f^{prod}_2(\\vec{x}, \\mathcal{K}_2) = (2 \\cdot \\min \\{\\vec{x}_1, \\mathcal{K}_2 \\}, 0)$$"
   ]
  },
  {
   "cell_type": "code",
   "execution_count": null,
   "id": "48b13d85-7bdd-4e1a-99d6-f909bf79e533",
   "metadata": {
    "tags": []
   },
   "outputs": [],
   "source": [
    "num = 1"
   ]
  },
  {
   "cell_type": "code",
   "execution_count": null,
   "id": "dc56fe08-a67a-4bbb-ae5e-4c776b6268e7",
   "metadata": {
    "tags": []
   },
   "outputs": [],
   "source": [
    "torch.manual_seed(555)\n",
    "\n",
    "env = BatchedEnvironment(market_kwargs,\n",
    "                         BetaPolicyNetwork,\n",
    "                         prod_functions,\n",
    "                         invest_functions=invest_functions,\n",
    "                         target='production',\n",
    "                         production_reg=0,\n",
    "                         **env_kwargs\n",
    "                        )\n",
    "trainer = TrainerPPO(env, **trainer_kwargs)"
   ]
  },
  {
   "cell_type": "code",
   "execution_count": null,
   "id": "43976024-e456-4027-b6bc-dc31067c1e12",
   "metadata": {
    "tags": []
   },
   "outputs": [],
   "source": [
    "trainer.train(**train_kwargs)\n",
    "env.reset()\n",
    "n_periods = 64\n",
    "for i in range(n_periods):\n",
    "    env.step_and_record_batch(i % env.market.n_firms)\n",
    "plot(trainer, env)"
   ]
  },
  {
   "cell_type": "markdown",
   "id": "af28ab6c-b738-44ac-9607-b8ea5a161f97",
   "metadata": {},
   "source": [
    "# Третий\n",
    "\n",
    "__Цель__: каждая фирма стремится максимизировать прибыль. Реальные величины в функции награды фирмы не участвуют.\n",
    "\n",
    "__Лимиты__: нет\n",
    "\n",
    "__Порядок ходов__: [0, 1]\n",
    "\n",
    "## Подробности:\n",
    "- $$r_t = \\text{revenue}_{t+1} - \\text{costs}_{t}$$\n",
    "\n",
    "- $$f^{prod}_1(\\vec{x}) = (0, 2 \\vec{x}_1)$$\n",
    "\n",
    "- $$f^{prod}_2(\\vec{x}) = ( 2 \\vec{x}_1, 0)$$\n",
    "\n",
    "## Результаты:\n",
    "\n",
    "- Фирмы выставляют товары на рынок. \n",
    "\n",
    "- Фирмы покупают товары у себя, почти никогда не покупают товары у контрагента\n",
    "\n",
    "- Цены выглядят непредсказуемыми. При пересечении двукратном пересечении графиков цен между периодами (10-20) началось производство. \n",
    "\n",
    "- Производство почти не расширяется. Любые расширения -- результат стохастичной природы политики и не являются систематическими.\n",
    "\n",
    "- Фирмы усвоили, какие у них производственные функции, и стараются производить по-максимиму. \n",
    "\n",
    "- Стратегия \"не покупать ничего у контрагента\" является нэш-равновесием в этой модели."
   ]
  },
  {
   "cell_type": "code",
   "execution_count": null,
   "id": "5c63d81c-d3c2-4e3e-8f0d-db8466ee6ce5",
   "metadata": {
    "tags": []
   },
   "outputs": [],
   "source": [
    "torch.manual_seed(995)\n",
    "\n",
    "env = BatchedEnvironment(market_kwargs,\n",
    "                         BetaPolicyNetwork,\n",
    "                         prod_functions,\n",
    "                         invest_functions=None,\n",
    "                         target='finance',\n",
    "                         production_reg=0,\n",
    "                         **env_kwargs\n",
    "                        )\n",
    "trainer = TrainerPPO(env, **trainer_kwargs)"
   ]
  },
  {
   "cell_type": "code",
   "execution_count": null,
   "id": "1161190c-630f-4360-a320-5d0c77dfe165",
   "metadata": {
    "tags": []
   },
   "outputs": [],
   "source": [
    "trainer.train(n_epochs=1000, episode_length=32, debug_period=10000, shuffle_order=True)\n",
    "env.reset()\n",
    "n_periods = 64\n",
    "for i in range(n_periods):\n",
    "    env.step_and_record_batch(i % env.market.n_firms)\n",
    "plot(trainer, env)"
   ]
  },
  {
   "cell_type": "markdown",
   "id": "722684f6-c0af-41fc-9c8a-c833e4959c06",
   "metadata": {},
   "source": [
    "# Эксперимент 4\n",
    "\n",
    "\n",
    "__Цель__: каждая фирма стремится максимизировать прибыль. Реальные величины в функции награды фирмы не участвуют.\n",
    "\n",
    "__Лимиты__: есть\n",
    "\n",
    "__Порядок ходов__: [0, 1]\n",
    "\n",
    "## Подробности:\n",
    "- $$r_t = \\text{revenue}_{t+1} - \\text{costs}_{t}$$\n",
    "\n",
    "- $$f^{prod}_1(\\vec{x}, \\mathcal{K}_1) = (0, 2 \\cdot \\min \\{\\vec{x}_2, \\mathcal{K}_1 \\})$$\n",
    "\n",
    "- $$f^{prod}_2(\\vec{x}, \\mathcal{K}_2) = (2 \\cdot \\min \\{\\vec{x}_1, \\mathcal{K}_2 \\}, 0)$$\n",
    "\n",
    "\n",
    "## Результаты (как в эксперименте 3):\n",
    "\n",
    "- Фирмы не расширяют лимиты. \n",
    "\n",
    "- Производство почти не расширяется. Любые расширения -- результат стохастичной природы политики и не являются систематическими.\n",
    "\n",
    "- Фирмы усвоили, какие у них производственные функции, и стараются производить по-максимиму. \n",
    "\n",
    "- У одной фирмы завышенные цены, у другой - заниженные. Но никто ничего не покупает.\n",
    "\n",
    "- Стратегия \"не покупать ничего у контрагента\" является нэш-равновесием в этой модели."
   ]
  },
  {
   "cell_type": "code",
   "execution_count": null,
   "id": "3d2b61b1-d9ea-4764-b041-c95be25d9930",
   "metadata": {
    "tags": []
   },
   "outputs": [],
   "source": [
    "# env = BatchedEnvironment(market_kwargs,\n",
    "#                          BetaPolicyNetwork,\n",
    "#                          prod_functions,\n",
    "#                          invest_functions=invest_functions,\n",
    "#                          target='finance',\n",
    "#                          production_reg=0,\n",
    "#                          **env_kwargs\n",
    "#                         )\n",
    "# trainer = TrainerPPO(env, **trainer_kwargs)"
   ]
  },
  {
   "cell_type": "code",
   "execution_count": null,
   "id": "5044b97a-fb7b-42ec-a1f8-6a62b0a90e59",
   "metadata": {
    "tags": []
   },
   "outputs": [],
   "source": [
    "# trainer.train(**train_kwargs)\n",
    "# env.reset()\n",
    "# n_periods = 64\n",
    "# for i in range(n_periods):\n",
    "#     env.step_and_record_batch(i % env.market.n_firms)\n",
    "# plot(trainer, env)"
   ]
  },
  {
   "cell_type": "markdown",
   "id": "4f13fa9e-7162-4f7b-9dc0-4dd98b3636fc",
   "metadata": {},
   "source": [
    "# Эксперимент 5 (по факту 4)\n",
    "\n",
    "__Цель__: каждая фирма стремится максимизировать прибыль. Но в функции награды есть бонус за объёмы производства. \n",
    "\n",
    "__Лимиты__: есть\n",
    "\n",
    "__Порядок ходов__: [0, 1]\n",
    "\n",
    "## Подробности:\n",
    "- $$r_t = \\text{revenue}_{t+1} - \\text{costs}_{t} + \\alpha  \\cdot \\sum_j \\vec{x}_{t, j}^{out}$$\n",
    "\n",
    "- $$f^{prod}_1(\\vec{x}, \\mathcal{K}_1) = (0, 2 \\cdot \\min \\{\\vec{x}_2, \\mathcal{K}_1 \\})$$\n",
    "\n",
    "- $$f^{prod}_2(\\vec{x}, \\mathcal{K}_2) = (2 \\cdot \\min \\{\\vec{x}_1, \\mathcal{K}_2 \\}, 0)$$\n",
    "## Результаты:\n",
    "\n",
    "- Производство есть, оно растёт\n",
    "\n",
    "- Агенты торгуют друг с другом, но на небольшую часть портфеля. \n",
    "\n",
    "- Одна из фирм держит максимальные цены на товар контрагента, вторая фирма так не делает. На остальные товары, как правило, фирмы держат минимальные цены, но та фирма, у которой финансовых ресурсов меньше, периодически поднимает их на короткий промежуток времени. \n",
    "\n",
    "- Есть тенденция накапливать резервы товара, производимого контрагентом\n"
   ]
  },
  {
   "cell_type": "code",
   "execution_count": null,
   "id": "673f2c82-5270-4e72-be61-edb3c20812a8",
   "metadata": {
    "tags": []
   },
   "outputs": [],
   "source": [
    "num = 4"
   ]
  },
  {
   "cell_type": "code",
   "execution_count": null,
   "id": "8e4a2d15-1f24-4718-a5ea-a85f1ca51181",
   "metadata": {
    "tags": []
   },
   "outputs": [],
   "source": [
    "torch.manual_seed(777)\n",
    "env = BatchedEnvironment(market_kwargs,\n",
    "                         BetaPolicyNetwork,\n",
    "                         prod_functions,\n",
    "                         invest_functions=invest_functions,\n",
    "                         target='finance',\n",
    "                         production_reg=15,\n",
    "                         **env_kwargs\n",
    "                        )\n",
    "trainer = TrainerPPO(env, **trainer_kwargs)"
   ]
  },
  {
   "cell_type": "code",
   "execution_count": null,
   "id": "24f3f1de-5483-46eb-a4f3-0d57bbab76b3",
   "metadata": {
    "tags": []
   },
   "outputs": [],
   "source": [
    "trainer.train(n_epochs=1000, episode_length=32, debug_period=10000, shuffle_order=False)\n",
    "env.reset()\n",
    "n_periods = 64\n",
    "for i in range(n_periods):\n",
    "    env.step_and_record_batch(i % env.market.n_firms)\n",
    "plot(trainer, env)"
   ]
  },
  {
   "cell_type": "markdown",
   "id": "b7c6d48e-df34-4431-8f48-f5e5c4d7d0de",
   "metadata": {},
   "source": [
    "# Монопольная vs Немонопольная отрасль\n",
    "\n",
    "Перемешивание ходов есть.\n",
    "\n",
    "3 фирмы vs Монополия. Эта модель сошлась к следующему состоянию:\n",
    "\n",
    "1. Контрагенты монополии - доноры.\n",
    "\n",
    "2. Производство растёт, но примерно в два раза медленнее, чем в модели с двумя фирмами-контрагентами, ориентированными на производство (начальные запасы там были в два раза меньше).\n",
    "\n",
    "3. У фирм из одной отрасли выработались разные политики\n",
    "\n",
    "4. Монополия старается накапливать резервы отрасли-контрагента. Это, скорее всего, мотивировано заботой о дисконтированном производстве. "
   ]
  },
  {
   "cell_type": "code",
   "execution_count": null,
   "id": "6ad7cffc-448c-4d0d-8c97-17defa837c82",
   "metadata": {
    "tags": []
   },
   "outputs": [],
   "source": [
    "num = 20 "
   ]
  },
  {
   "cell_type": "code",
   "execution_count": null,
   "id": "1128a8ee-aae6-4e69-962b-1b654f7cb026",
   "metadata": {
    "tags": []
   },
   "outputs": [],
   "source": [
    "# Производственные функции\n",
    "prod_functions = [\n",
    "    BatchedLeontief(torch.tensor([0, 1]), torch.tensor([2, 0]), device=device),  # 0 товара А + 1 товар  Б => 2 товара А.\n",
    "    BatchedLeontief(torch.tensor([0, 1]), torch.tensor([2, 0]), device=device),  # 0 товара А + 1 товар  Б => 2 товара А.\n",
    "    BatchedLeontief(torch.tensor([0, 1]), torch.tensor([2, 0]), device=device),  # 0 товара А + 1 товар  Б => 2 товара А.\n",
    "    BatchedLeontief(torch.tensor([1, 0]), torch.tensor([0, 2]), device=device),  # 1 товара А + 0 товара Б => 2 товара Б \n",
    "]\n",
    "\n",
    "# Инвестиционные функции\n",
    "invest_functions = [\n",
    "    BatchedLeontief(torch.tensor([1, 1]), torch.tensor(2), device=device),\n",
    "    BatchedLeontief(torch.tensor([1, 1]), torch.tensor(2), device=device),\n",
    "    BatchedLeontief(torch.tensor([1, 1]), torch.tensor(2), device=device),\n",
    "    BatchedLeontief(torch.tensor([1, 1]), torch.tensor(2), device=device),\n",
    "]\n",
    "\n",
    "torch.manual_seed(777)\n",
    "env = BatchedEnvironment(market_kwargs,\n",
    "                         BetaPolicyNetwork,\n",
    "                         prod_functions,\n",
    "                         invest_functions=invest_functions,\n",
    "                         target='finance',\n",
    "                         production_reg=10,\n",
    "                         **env_kwargs\n",
    "                        )\n",
    "trainer = TrainerPPO(env, **trainer_kwargs)"
   ]
  },
  {
   "cell_type": "code",
   "execution_count": null,
   "id": "00f65092-1496-4c18-bd25-dbf90e681fee",
   "metadata": {
    "tags": []
   },
   "outputs": [],
   "source": [
    "trainer.train(n_epochs=1000, episode_length=32, debug_period=10000, shuffle_order=True)\n",
    "env.reset()\n",
    "n_periods = 32 * 4\n",
    "for i in range(n_periods):\n",
    "    env.step_and_record_batch(i % env.market.n_firms)\n",
    "plot(trainer, env)"
   ]
  },
  {
   "cell_type": "code",
   "execution_count": null,
   "id": "91317e33-8c06-4140-8b8e-bf475938d831",
   "metadata": {
    "tags": []
   },
   "outputs": [],
   "source": [
    "num = 21\n",
    "torch.manual_seed(777)\n",
    "env = BatchedEnvironment(market_kwargs,\n",
    "                         BetaPolicyNetwork,\n",
    "                         prod_functions,\n",
    "                         invest_functions=invest_functions,\n",
    "                         target='finance',\n",
    "                         production_reg=5,\n",
    "                         **env_kwargs\n",
    "                        )\n",
    "trainer = TrainerPPO(env, **trainer_kwargs)\n",
    "trainer.train(n_epochs=1000, episode_length=32, debug_period=10000, shuffle_order=True)\n",
    "env.reset()\n",
    "n_periods = 32 * 4\n",
    "for i in range(n_periods):\n",
    "    env.step_and_record_batch(i % env.market.n_firms)\n",
    "plot(trainer, env)"
   ]
  },
  {
   "cell_type": "markdown",
   "id": "7635b8a1-9aa1-4129-8834-df5f4745147c",
   "metadata": {},
   "source": [
    "# Три отрасли\n",
    "\n",
    "Основной капитал производит только одна из трёх отраслей. Фирмы заботятся только о производстве. \n",
    "\n"
   ]
  },
  {
   "cell_type": "code",
   "execution_count": null,
   "id": "f9ba9b39-2c04-4917-97f5-b174fdddf282",
   "metadata": {
    "tags": []
   },
   "outputs": [],
   "source": [
    "num = 10 \n",
    "torch.manual_seed(777)\n",
    "# Производственные функции\n",
    "prod_functions = [\n",
    "    BatchedLeontief(torch.tensor([0, 1, 1]), torch.tensor([3, 0, 0]), device=device),  # 0 товара А + 1 товар  Б => 2 товара А.\n",
    "    BatchedLeontief(torch.tensor([1, 0, 1]), torch.tensor([0, 3, 0]), device=device),  # 0 товара А + 1 товар  Б => 2 товара А.\n",
    "    BatchedLeontief(torch.tensor([1, 1, 0]), torch.tensor([0, 0, 3]), device=device),  # 0 товара А + 1 товар  Б => 2 товара А.\n",
    "]\n",
    "\n",
    "# Инвестиционные функции\n",
    "invest_functions = [\n",
    "    BatchedLeontief(torch.tensor([0, 0, 2]), torch.tensor(2), device=device),\n",
    "    BatchedLeontief(torch.tensor([0, 0, 2]), torch.tensor(2), device=device),\n",
    "    BatchedLeontief(torch.tensor([0, 0, 2]), torch.tensor(2), device=device),\n",
    "]\n",
    "\n",
    "torch.manual_seed(777)\n",
    "env = BatchedEnvironment(market_kwargs,\n",
    "                         BetaPolicyNetwork,\n",
    "                         prod_functions,\n",
    "                         invest_functions=invest_functions,\n",
    "                         target='production',\n",
    "                         # production_reg=10,\n",
    "                         **env_kwargs\n",
    "                        )\n",
    "trainer = TrainerPPO(env, **trainer_kwargs)"
   ]
  },
  {
   "cell_type": "code",
   "execution_count": null,
   "id": "4c0b10a2-4849-41b1-b7fa-db55b1e42cfa",
   "metadata": {},
   "outputs": [],
   "source": [
    "trainer.train(n_epochs=1000, episode_length=32, debug_period=10000, shuffle_order=True)"
   ]
  },
  {
   "cell_type": "code",
   "execution_count": null,
   "id": "f733076b-5c2d-4c06-8d49-d28697f89d7c",
   "metadata": {
    "tags": []
   },
   "outputs": [],
   "source": [
    "env.reset()\n",
    "n_periods = 32 * 3\n",
    "for i in range(n_periods):\n",
    "    env.step_and_record_batch(i % env.market.n_firms)\n",
    "    \n",
    "plot(trainer, env)"
   ]
  },
  {
   "cell_type": "code",
   "execution_count": null,
   "id": "43999731-5d5b-4949-8d87-848c0ee68f66",
   "metadata": {
    "tags": []
   },
   "outputs": [],
   "source": [
    "num = 101\n",
    "env.change_batch_size(1)\n",
    "env.reset()\n",
    "n_periods = 32 * 3\n",
    "for i in range(n_periods):\n",
    "    env.step_and_record_batch(i % env.market.n_firms)\n",
    "    \n",
    "plot(trainer, env)"
   ]
  },
  {
   "cell_type": "code",
   "execution_count": null,
   "id": "69357d79-80ca-4f5f-bf95-af666d331f4d",
   "metadata": {
    "tags": []
   },
   "outputs": [],
   "source": [
    "num = 11 \n",
    "torch.manual_seed(777)\n",
    "# Производственные функции\n",
    "prod_functions = [\n",
    "    BatchedLeontief(torch.tensor([0, 1, 1]), torch.tensor([3, 0, 0]), device=device),  # 0 товара А + 1 товар  Б => 2 товара А.\n",
    "    BatchedLeontief(torch.tensor([1, 0, 1]), torch.tensor([0, 3, 0]), device=device),  # 0 товара А + 1 товар  Б => 2 товара А.\n",
    "    BatchedLeontief(torch.tensor([1, 1, 0]), torch.tensor([0, 0, 3]), device=device),  # 0 товара А + 1 товар  Б => 2 товара А.\n",
    "]\n",
    "\n",
    "# Инвестиционные функции\n",
    "invest_functions = [\n",
    "    BatchedLeontief(torch.tensor([0, 0, 2]), torch.tensor(2), device=device),\n",
    "    BatchedLeontief(torch.tensor([0, 0, 2]), torch.tensor(2), device=device),\n",
    "    BatchedLeontief(torch.tensor([0, 0, 2]), torch.tensor(2), device=device),\n",
    "]\n",
    "\n",
    "torch.manual_seed(777)\n",
    "env = BatchedEnvironment(market_kwargs,\n",
    "                         BetaPolicyNetwork,\n",
    "                         prod_functions,\n",
    "                         invest_functions=invest_functions,\n",
    "                         target='finance',\n",
    "                         production_reg=15,\n",
    "                         **env_kwargs\n",
    "                        )\n",
    "trainer = TrainerPPO(env, **trainer_kwargs)"
   ]
  },
  {
   "cell_type": "code",
   "execution_count": null,
   "id": "e6f35cef-a25c-43fc-b066-82a70b206f9b",
   "metadata": {
    "tags": []
   },
   "outputs": [],
   "source": [
    "trainer.train(n_epochs=1000, episode_length=32, debug_period=10000, shuffle_order=True)"
   ]
  },
  {
   "cell_type": "code",
   "execution_count": null,
   "id": "6531dc8c-6893-43dd-a7a8-23d55688dd48",
   "metadata": {
    "tags": []
   },
   "outputs": [],
   "source": [
    "\n",
    "env.reset()\n",
    "n_periods = 32 * 6\n",
    "for i in range(n_periods):\n",
    "    env.step_and_record_batch(i % env.market.n_firms)\n",
    "    \n",
    "plot(trainer, env)"
   ]
  },
  {
   "cell_type": "markdown",
   "id": "5cbd5d3b-2dff-4a06-bfd7-a1986c716f13",
   "metadata": {
    "tags": []
   },
   "source": [
    "# Три отрасли (+ другой способ менять цены)\n",
    "\n",
    "Основной капитал производит только одна из трёх отраслей. Фирмы заботятся только о производстве.\n",
    "Фирмы назначают процентные изменения своих цен. Интервал изменений: [-50%, +100%]. Функция подобрана так, чтобы для $x \\in [0, 1]$:\n",
    "\n",
    "$$\\begin{cases}\n",
    "f(x) \\cdot f(1-x) \\approx 1\\\\\n",
    "f(0.0) = 0.5 \\\\\n",
    "f(0.5) = 1.0 \\\\\n",
    "f(1.0) = 2.0 \\\\\n",
    "\\end{cases}$$\n",
    "\n"
   ]
  },
  {
   "cell_type": "code",
   "execution_count": null,
   "id": "2603bee1-bf72-4636-94ea-e0b6efcde642",
   "metadata": {
    "tags": []
   },
   "outputs": [],
   "source": [
    "# Производственные функции\n",
    "prod_functions = [\n",
    "    BatchedLeontief(torch.tensor([0, 1, 1]), torch.tensor([3, 0, 0]), device=device),  # 0 товара А + 1 товар  Б => 2 товара А.\n",
    "    BatchedLeontief(torch.tensor([1, 0, 1]), torch.tensor([0, 3, 0]), device=device),  # 0 товара А + 1 товар  Б => 2 товара А.\n",
    "    BatchedLeontief(torch.tensor([1, 1, 0]), torch.tensor([0, 0, 3]), device=device),  # 0 товара А + 1 товар  Б => 2 товара А.\n",
    "]\n",
    "\n",
    "# Инвестиционные функции\n",
    "invest_functions = [\n",
    "    BatchedLeontief(torch.tensor([0, 0, 2]), torch.tensor(2), device=device),\n",
    "    BatchedLeontief(torch.tensor([0, 0, 2]), torch.tensor(2), device=device),\n",
    "    BatchedLeontief(torch.tensor([0, 0, 2]), torch.tensor(2), device=device),\n",
    "]\n",
    "\n",
    "torch.manual_seed(123)\n",
    "env = BatchedEnvironment(market_kwargs,\n",
    "                         BetaPolicyNetwork,\n",
    "                         prod_functions,\n",
    "                         invest_functions=invest_functions,\n",
    "                         percent_prices=True, \n",
    "                         target='production',\n",
    "                         # production_reg=10,\n",
    "                         **env_kwargs\n",
    "                        )\n",
    "trainer = TrainerPPO(env, **trainer_kwargs)"
   ]
  },
  {
   "cell_type": "code",
   "execution_count": null,
   "id": "ca67a5b7-7af3-418a-8448-c6590058b26d",
   "metadata": {
    "tags": []
   },
   "outputs": [],
   "source": [
    "trainer.train(**train_kwargs, shuffle_order=True)\n"
   ]
  },
  {
   "cell_type": "code",
   "execution_count": null,
   "id": "b26e7b1b-8b14-4c69-82a3-d5b74952b6e5",
   "metadata": {
    "tags": []
   },
   "outputs": [],
   "source": [
    "env.change_batch_size(1024)\n",
    "env.reset()\n",
    "n_periods = 256\n",
    "for i in range(n_periods):\n",
    "    env.step_and_record_batch(i % env.market.n_firms)\n",
    "plot(trainer, env)"
   ]
  },
  {
   "cell_type": "code",
   "execution_count": null,
   "id": "51593957-ba82-4bdf-a921-7ced56786f33",
   "metadata": {},
   "outputs": [],
   "source": []
  }
 ],
 "metadata": {
  "kernelspec": {
   "display_name": "rl",
   "language": "python",
   "name": "rl"
  },
  "language_info": {
   "codemirror_mode": {
    "name": "ipython",
    "version": 3
   },
   "file_extension": ".py",
   "mimetype": "text/x-python",
   "name": "python",
   "nbconvert_exporter": "python",
   "pygments_lexer": "ipython3",
   "version": "3.11.8"
  }
 },
 "nbformat": 4,
 "nbformat_minor": 5
}
